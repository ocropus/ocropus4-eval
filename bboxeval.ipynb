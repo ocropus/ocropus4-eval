{
 "cells": [
  {
   "cell_type": "code",
   "execution_count": 20,
   "metadata": {},
   "outputs": [],
   "source": [
    "%matplotlib inline\n",
    "import matplotlib.pyplot as plt\n",
    "from ocroeval.texteval import *\n",
    "import wids\n",
    "import Levenshtein as lev"
   ]
  },
  {
   "cell_type": "code",
   "execution_count": 10,
   "metadata": {},
   "outputs": [
    {
     "name": "stderr",
     "output_type": "stream",
     "text": [
      "[{'url': 'ocr-eval-hocr-reframed-ocr.tar', 'nsampl base: None name: None nfiles: 1 nbytes: 0 samples: 100 cache: /tmp/_wids_cache\n"
     ]
    }
   ],
   "source": [
    "url = \"ocr-eval-hocr-reframed-ocr.tar\"\n",
    "results = wids.ShardListDataset([dict(url=url, nsamples=100)])"
   ]
  },
  {
   "cell_type": "code",
   "execution_count": 11,
   "metadata": {},
   "outputs": [],
   "source": [
    "gt = results[0][\".hocr.html\"].read().decode(\"utf-8\")\n",
    "ocr = results[0][\".tess.html\"].read().decode(\"utf-8\")"
   ]
  },
  {
   "cell_type": "code",
   "execution_count": 16,
   "metadata": {},
   "outputs": [],
   "source": [
    "gt_boxes, gt_text = extract_bounding_boxes_and_text(gt, element=\"ocr_line\")\n",
    "ocr_boxes, ocr_text = extract_bounding_boxes_and_text(ocr, element=\"ocr_line\")"
   ]
  },
  {
   "cell_type": "code",
   "execution_count": 19,
   "metadata": {},
   "outputs": [
    {
     "data": {
      "text/plain": [
       "<matplotlib.image.AxesImage at 0x7efe7a486350>"
      ]
     },
     "execution_count": 19,
     "metadata": {},
     "output_type": "execute_result"
    },
    {
     "data": {
      "image/png": "[encoded data removed]",
      "text/plain": [
       "<Figure size 640x480 with 1 Axes>"
      ]
     },
     "metadata": {},
     "output_type": "display_data"
    }
   ],
   "source": [
    "def compute_overlap(gt_box, ocr_box):\n",
    "    # gt_box and ocr_box are (x0,y0,x1,y1) arrays\n",
    "    # compute the overlap of the two boxes as area of intersection over minimum area of the two boxes\n",
    "    # return 0 if there is no overlap\n",
    "    # return 1 if the boxes are identical\n",
    "    gt_area = (gt_box[2]-gt_box[0])*(gt_box[3]-gt_box[1])\n",
    "    ocr_area = (ocr_box[2]-ocr_box[0])*(ocr_box[3]-ocr_box[1])\n",
    "    intersection_area = max(0, min(gt_box[2], ocr_box[2]) - max(gt_box[0], ocr_box[0])) * max(0, min(gt_box[3], ocr_box[3]) - max(gt_box[1], ocr_box[1]))\n",
    "    if intersection_area == 0:\n",
    "        return 0\n",
    "    else:\n",
    "        return intersection_area / min(gt_area, ocr_area)\n",
    "\n",
    "def compute_overlap_matrix(gt_boxes, ocr_boxes):\n",
    "    overlaps = np.zeros((len(gt_boxes), len(ocr_boxes)))\n",
    "    for i,gt in enumerate(gt_boxes):\n",
    "        for j,ocr in enumerate(ocr_boxes):\n",
    "            overlaps[i,j] = compute_overlap(gt, ocr)\n",
    "    return overlaps\n",
    "\n",
    "overlaps = compute_overlap_matrix(gt_boxes, ocr_boxes)\n",
    "plt.imshow(overlaps)"
   ]
  },
  {
   "cell_type": "code",
   "execution_count": 25,
   "metadata": {},
   "outputs": [
    {
     "name": "stdout",
     "output_type": "stream",
     "text": [
      "GT:  tivity is likely to be enhanced as\n",
      "OCR: tivity 1s likely to be enhanced as\n",
      "\n",
      "GT:  various purposes\n",
      "OCR: Various purposes\n",
      "\n",
      "GT:  and inconsistencies among state\n",
      "OCR: and inconsistencies among State\n",
      "\n"
     ]
    }
   ],
   "source": [
    "def compute_match(gt_boxes, ocr_boxes, gt_text, ocr_text):\n",
    "    overlaps = compute_overlap_matrix(gt_boxes, ocr_boxes)\n",
    "    best_match_for_gt = np.argmax(overlaps, axis=1)\n",
    "    missing_ocr = sum(overlaps.max(axis=0) == 0)\n",
    "    extra_ocr = sum(overlaps.max(axis=1) == 0)\n",
    "    errors, total = 0, 0\n",
    "    for i, j in enumerate(best_match_for_gt):\n",
    "        gtt = normalize(gt_text[i])\n",
    "        ocrt = normalize(ocr_text[j])\n",
    "        error = lev.distance(gtt, ocrt)\n",
    "        errors += error\n",
    "        total += len(gtt)\n",
    "        if error > 0:\n",
    "            print(\"GT: \", gtt)\n",
    "            print(\"OCR:\", ocrt)\n",
    "            print()\n",
    "    return errors, total, missing_ocr, extra_ocr\n",
    "\n",
    "errors, total = compute_match(gt_boxes, ocr_boxes, gt_text, ocr_text)\n"
   ]
  },
  {
   "cell_type": "code",
   "execution_count": 24,
   "metadata": {},
   "outputs": [
    {
     "data": {
      "text/plain": [
       "(3, 4573)"
      ]
     },
     "execution_count": 24,
     "metadata": {},
     "output_type": "execute_result"
    }
   ],
   "source": [
    "errors, total"
   ]
  },
  {
   "cell_type": "code",
   "execution_count": null,
   "metadata": {},
   "outputs": [],
   "source": []
  }
 ],
 "metadata": {
  "kernelspec": {
   "display_name": "venv",
   "language": "python",
   "name": "python3"
  },
  "language_info": {
   "codemirror_mode": {
    "name": "ipython",
    "version": 3
   },
   "file_extension": ".py",
   "mimetype": "text/x-python",
   "name": "python",
   "nbconvert_exporter": "python",
   "pygments_lexer": "ipython3",
   "version": "3.10.12"
  }
 },
 "nbformat": 4,
 "nbformat_minor": 2
}
